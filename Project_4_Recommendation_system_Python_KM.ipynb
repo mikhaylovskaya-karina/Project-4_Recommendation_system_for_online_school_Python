{
 "cells": [
  {
   "attachments": {},
   "cell_type": "markdown",
   "metadata": {},
   "source": [
    "# Project-4: Создание основы рекомендательной системы для онлайн школы"
   ]
  },
  {
   "cell_type": "markdown",
   "metadata": {},
   "source": [
    "Онлайн школе MasterMind требуется решение бизнес-проблемы - увеличение среднего чека. Решено предлагать слушателям курсы, которые могут быть им интересны, для чего требуется создание рекомендательной системы - таблицы, в которой каждому курсу будут соответствовать по две рекомендации."
   ]
  },
  {
   "cell_type": "markdown",
   "metadata": {},
   "source": [
    "## ЦЕЛЬ\n",
    "Подготовить основу рекомендательной системы.\n",
    "\n",
    "## ЗАДАЧИ\n",
    "1. Познакомиться с датасетом, подготовить и проанализировать данные с помощью SQL.\n",
    "2. Обработать данные средствами Python.\n",
    "3. Составить итоговую таблицу с рекомендациями, снабдив её необходимыми комментариями, и представить отчёт продакт-менеджеру."
   ]
  },
  {
   "cell_type": "markdown",
   "metadata": {},
   "source": [
    "Нам необходимо определить какие курсы мы будем предлагать нашим студентам. Можно взять выборку из всех курсов и предлагать рамдомно 2 курса. В этом случае выборка курсов самая большая, однако мы можем не попасть в область интересов студентов и не заинтересовать их вовсе.\n",
    "\n",
    "Мы можем предлагать самые популярные курсы. Однако, это тоже не кажется правильным выбором, потому что школа MasterMind имеет разные курсы, на создание которых тратились ресурсы школы и необходимо повышать интерес студентов к ним.\n",
    "\n",
    "Таким образом, наиболее правильным кажется предлагать студентам курсы, котрые чаще покупают вместе с конкретными курсами, потому что студенты могут покупать разные курсы из одной предметной области, либо выбранные курсы могут быть продолжением уже пройденных курсов."
   ]
  },
  {
   "cell_type": "code",
   "execution_count": null,
   "metadata": {},
   "outputs": [],
   "source": [
    "# загружаем необходимые библиотеки для обработки данных\n",
    "import pandas as pd\n",
    "import psycopg2\n",
    "import psycopg2.extras "
   ]
  },
  {
   "cell_type": "code",
   "execution_count": null,
   "metadata": {},
   "outputs": [],
   "source": [
    "# создаем транзакцию\n",
    "\n",
    "# определяем параметры соединения с бд\n",
    "try:\n",
    "    connection = psycopg2.connect(\n",
    "        user = 'skillfactory',\n",
    "        password = 'cCkxxLVrDE8EbvjueeMedPKt',\n",
    "        host = '84.201.134.129',\n",
    "        port = '5432',\n",
    "        database = 'skillfactory'\n",
    "    )\n",
    "\n",
    "# создаем запрос для выгрузки данных по продажам курсов в разрезе \n",
    "# пользователей, которые купили более одного курса   \n",
    "    query = \"\"\"select user_id, course_id\n",
    "                from\n",
    "                (select c.user_id user_id, \n",
    "                        ci.resource_id course_id,\n",
    "\t\t                count(ci.resource_id) over(\n",
    "\t\t\t                partition by c.user_id) purchased_courses_cnt\n",
    "\t            from final.carts c\n",
    "\t            join final.cart_items ci on c.id = ci.cart_id\n",
    "\t            where ci.resource_type = 'Course'\n",
    "\t\t            and c.state = 'successful'\n",
    "\t            group by c.user_id, \n",
    "                    ci.resource_id, \n",
    "                    ci.resource_type, \n",
    "                    c.state) as purchased_courses_table\n",
    "                where purchased_courses_cnt > 1\"\"\"\n",
    "    \n",
    "# создаем курсор для хранения результата запроса                \n",
    "    cursor = connection.cursor()\n",
    "    dict_cur = connection.cursor(cursor_factory=psycopg2.extras.DictCursor)\n",
    "# передаем запрос в бд\n",
    "    dict_cur.execute(query)\n",
    "# передаем результат запроса в переменную data    \n",
    "    rows = dict_cur.fetchall()\n",
    "    data = []\n",
    "    for row in rows:\n",
    "        data.append(dict(row))\n",
    "        \n",
    "# создаем исключение, на случай возникновения ошибки   \n",
    "except (Exception, psycopg2.Error) as error:\n",
    "    print(\"Error while connecting to PostgreSQL\", error)\n",
    "# закрываем соединение с бд\n",
    "finally:\n",
    "    if connection:\n",
    "        cursor.close()\n",
    "        connection.close()\n",
    "        print(\"PostgreSQL connection is closed\")"
   ]
  },
  {
   "cell_type": "code",
   "execution_count": null,
   "metadata": {},
   "outputs": [],
   "source": [
    "# создаем датафрейм с результатом запроса\n",
    "purchased_courses_df = pd.DataFrame(data)\n",
    "# выводим информацию о созданном датафрейме и\n",
    "# проверяем результат запроса на отсутствие пропуском\n",
    "purchased_courses_df.info()"
   ]
  },
  {
   "cell_type": "markdown",
   "metadata": {},
   "source": [
    "Итак, мы получили данные о пользователях и курсах, которые они покупали. На основе этих данных мы можем создать таблицу - основу рекомендательной системы, в которой каждому курсу будут подобраны 2 рекомендации. "
   ]
  },
  {
   "cell_type": "code",
   "execution_count": null,
   "metadata": {},
   "outputs": [],
   "source": [
    "print('Количество уникальных пользователей, \\\n",
    "которые купили более 1 курса:', purchased_courses_df['user_id'].nunique())"
   ]
  },
  {
   "cell_type": "code",
   "execution_count": null,
   "metadata": {},
   "outputs": [],
   "source": [
    "print('Количество уникальных курсов, которые были \\\n",
    "куплены пользователями более 1 раза:', purchased_courses_df['course_id'].nunique())"
   ]
  },
  {
   "cell_type": "markdown",
   "metadata": {},
   "source": [
    "На предудущем шаге исследования данных мы выяснили, что общее количество курсов составляет 127. Значит, информации об одном курсе нет в предыдущем запросе, потому что пользователи не покупали его вовсе или не покупали вместе с другими курсами.\n",
    "\n",
    "ID номер этого курса необходим для добавления его в финальную таблицу.\n",
    "\n",
    "Создадим запрос в БД для определения ID этого курса."
   ]
  },
  {
   "cell_type": "code",
   "execution_count": null,
   "metadata": {},
   "outputs": [],
   "source": [
    "# создаем транзакцию\n",
    "\n",
    "# определяем параметры соединения с бд\n",
    "try:\n",
    "    connection = psycopg2.connect(\n",
    "        user = 'skillfactory',\n",
    "        password = 'cCkxxLVrDE8EbvjueeMedPKt',\n",
    "        host = '84.201.134.129',\n",
    "        port = '5432',\n",
    "        database = 'skillfactory'\n",
    "    )\n",
    "# создаем запрос к бд для выгрузки информации о курсе, \n",
    "# который пользователи не покупали  \n",
    "    query = \"\"\"select ci.resource_id never_bought_course\n",
    "            from final.cart_items ci\n",
    "            where ci.resource_type = 'Course' \n",
    "            group by ci.resource_id\n",
    "\n",
    "            EXCEPT\n",
    "\n",
    "            (select ci.resource_id course_id\n",
    "            from final.carts c\n",
    "            join final.cart_items ci on c.id = ci.cart_id\n",
    "            where ci.resource_type = 'Course' \n",
    "                and c.state = 'successful'\n",
    "            group by ci.resource_id)\"\"\"\n",
    "\n",
    "# создаем курсор для хранения результата запроса                \n",
    "    cursor = connection.cursor()\n",
    "# передаем запрос бд\n",
    "    cursor.execute(query)\n",
    "# передаем результат запроса в переменную record\n",
    "    record = cursor.fetchone()\n",
    "    \n",
    "# создаем исключение, на случай возникновения ошибки      \n",
    "except (Exception, psycopg2.Error) as error:\n",
    "    print(\"Error while connecting to PostgreSQL\", error)\n",
    "    \n",
    "# закрываем соединение  \n",
    "finally:\n",
    "    if connection:\n",
    "        cursor.close()\n",
    "        connection.close()\n",
    "        print(\"PostgreSQL connection is closed\")"
   ]
  },
  {
   "cell_type": "code",
   "execution_count": null,
   "metadata": {},
   "outputs": [],
   "source": [
    "# передаем ID курса, который не покупали в переменую missing_course\n",
    "missing_course = record[0]\n",
    "print('Id курса, который не покупали вместе с другими курсами:', missing_course)"
   ]
  },
  {
   "cell_type": "markdown",
   "metadata": {},
   "source": [
    "Создадим визуализацию распределения продаж курсов, чтобы понять равномерно ли пользователи покупают курсы или же среди курсов есть те, которые покупают чаще других."
   ]
  },
  {
   "cell_type": "code",
   "execution_count": null,
   "metadata": {},
   "outputs": [],
   "source": [
    "# выгружаем библиотеку plotly для создания визуализации\n",
    "import plotly.express as px\n",
    "\n",
    "# создаем гистограмму, отображающую частоту продаж курсов\n",
    "fig = px.histogram(purchased_courses_df, \n",
    "                   x='course_id', \n",
    "                   nbins=500, \n",
    "                   title='Гистограмма распределения продаж курсов онлайн-школы MasterMind')\n",
    "fig.show()"
   ]
  },
  {
   "cell_type": "markdown",
   "metadata": {},
   "source": [
    "Визуально распределение продаж курсов далеко от нормального. "
   ]
  },
  {
   "cell_type": "code",
   "execution_count": null,
   "metadata": {},
   "outputs": [],
   "source": [
    "# импортируем defaultdict из библиотеки collections\n",
    "from collections import defaultdict\n",
    "\n",
    "# выгружаем счетчик Counter из библиотеки collections для подсчета продаж курсов\n",
    "from collections import Counter\n",
    " \n",
    "# создаем список, в котором вхождения курсов будут\n",
    "# столько раз, сколько было продано этих курсов\n",
    "purchased_courses_lst = list(purchased_courses_df['course_id'])\n",
    "# создаем словарь с помощбю Counter, в котором будет подсчет продаж каждого курса\n",
    "# с помощью метода most_common расположим курсы в порядке убывания количества продаж\n",
    "purchased_courses_cnt = Counter(purchased_courses_lst).most_common()\n",
    "\n",
    "# создаем defaultdict с данными о курсах и числом их продаж\n",
    "purchased_courses_dict = defaultdict()\n",
    "for course_id, cnt in purchased_courses_cnt:\n",
    "    purchased_courses_dict[course_id] = cnt\n",
    "\n",
    "# создаем датафрейм на основе полученного defaultdict\n",
    "bar_df = pd.DataFrame(\n",
    "    data=purchased_courses_dict.values(),\n",
    "    columns=['purchase_cnt'],\n",
    "    index=map(str, purchased_courses_dict.keys())\n",
    ")\n",
    "\n",
    "# создаем столбчатую диаграмму, чтобы наглядно отобразить как продажи одних \n",
    "# курсов отличаются от продаж других \n",
    "fig = px.bar(bar_df, title='Диаграмма продаж каждого курса онлайн-школы MasterMind')\n",
    "fig.show()"
   ]
  },
  {
   "cell_type": "code",
   "execution_count": null,
   "metadata": {},
   "outputs": [],
   "source": [
    "bar_df['purchase_cnt'].describe()"
   ]
  },
  {
   "cell_type": "markdown",
   "metadata": {},
   "source": [
    "Визуаицация и базовые статистики данных по продажамкурсов свидельствуют о сильном смещении продаж в сторону определенных курсов. Средний показатель продаж - 270 продаж - значительно отличается в большую сторону от медианного показателя - 124 продажи.\n",
    "\n",
    "В выборке присутствуют выбросы - курсы, которые продаются в разы чаще других курсов:  курс 551 продан 2 935 раза, 566 - 2 342 раза."
   ]
  },
  {
   "cell_type": "markdown",
   "metadata": {},
   "source": [
    "Исходя из распределения продаж курсов, мы можем ожидать что есть такие курсы, которые пользователи не часто покупали вместе с другими курсами. Т.е. мы не сможем дать рекомендации к этим курсам.\n",
    "\n",
    "Для таких курсов, мы дадим рекомендации из числа самых популярных курсов. Да, таким образом мы можем не попать в предметную область интересующую конкретного пользователя, но это может способствовать тому чтобы пользователь сам проверил курсы на платформе школы.\n",
    "\n",
    "Поскольку на 10 самых популярных курсов приходится примерно 46% всех купленных курсов. т.е. пользователи и так осведомлены об этих курсах, возьмем выборку больше - 25% курсов. Это те курсы которые были куплены 350 раз и более. Это довольно популярные курсы с одной стороны и с другой - более разнообразная выборка."
   ]
  },
  {
   "cell_type": "code",
   "execution_count": null,
   "metadata": {},
   "outputs": [],
   "source": [
    "# выгружаем библиотеки itertools и numpy для создания списков \n",
    "# курсов, купленных каждым пользователем, и комбинаций этих курсов \n",
    "import itertools\n",
    "import numpy as np\n",
    "from collections import Counter\n",
    "\n",
    "# создаем датафрейм с пользователями и списками купленных ими курсов\n",
    "courses_comb_df = purchased_courses_df.groupby(\n",
    "    'user_id')['course_id'].apply(lambda x: list(np.unique(x))).reset_index()\n",
    "\n",
    "# создаем пустой список для комбинаций курсов, купленных покупателями\n",
    "courses_comb_list = []\n",
    "# проходим по спискам курсов в созданном датафрейме и создаем комбиниции по 2 курса\n",
    "for courses in courses_comb_df['course_id']:\n",
    "    for combs in itertools.combinations(courses, 2):\n",
    "        courses_comb_list.append(combs)\n",
    "\n",
    "# создаем словарь с комбинациями курсов по 2 штуки и количеством продаж данных комбинаций курсов\n",
    "# с помощью метода most_common сортируем комбинации курсов в порядке убывания продаж        \n",
    "courses_comb_dict = dict(Counter(courses_comb_list).most_common())"
   ]
  },
  {
   "cell_type": "code",
   "execution_count": null,
   "metadata": {},
   "outputs": [],
   "source": [
    "# создаем функцию для выведения 2 рекомендаций выбранному курсу\n",
    "def get_recommendation_lst(course_id):\n",
    "    # создаем пустой список, в который будем класть рекомендации\n",
    "    recommendations_list = []\n",
    "    # проходим по ключам словаря courses_comb_dict\n",
    "    for comb in courses_comb_dict.keys():\n",
    "        # если выбранный курс равен первому курсу в комбинации курсов, \n",
    "        # кладем элемент словаря в созданный список \n",
    "        if comb[0] == course_id:\n",
    "            recommendations_list.append(\n",
    "                (comb, courses_comb_dict[comb])\n",
    "            )\n",
    "    # сортируем полученный список по убыванию количества \n",
    "    # продаж комбинаций курсов\n",
    "    sorted_recommendations_list = sorted(recommendations_list, \n",
    "                                         key=lambda x: x[1], \n",
    "                                         reverse=True)\n",
    "    # функция возвращаем до 2х элементов полученного списка рекомендаций\n",
    "    return sorted_recommendations_list[:2]\n",
    "        \n",
    "# проверка        \n",
    "print(get_recommendation_lst(566))"
   ]
  },
  {
   "cell_type": "code",
   "execution_count": null,
   "metadata": {},
   "outputs": [],
   "source": [
    "# выводим список уникальных курсов из первоначальо полученного датафрейм\n",
    "courses_list = list(map(int, purchased_courses_df['course_id'].unique()))\n",
    "# добавляем в список курс, продаж которого не было\n",
    "courses_list.append(missing_course)"
   ]
  },
  {
   "cell_type": "code",
   "execution_count": null,
   "metadata": {},
   "outputs": [],
   "source": [
    " # создаем словарь для рекомендаций популярных курсов\n",
    "popular_courses_recommendation_dict = dict()\n",
    "# проходим по элементам словаря (курсам и числу их продаж)\n",
    "for course, cnt in purchased_courses_dict.items():\n",
    "    # если число продаж курса более 349, добавляем курс в словарь\n",
    "    if cnt > 349:\n",
    "        popular_courses_recommendation_dict[course] = cnt\n",
    "\n",
    "# создаем список из курсов, число продаж которых превышает 349 раз\n",
    "popular_courses_recommendation_list = list(popular_courses_recommendation_dict.keys())"
   ]
  },
  {
   "cell_type": "code",
   "execution_count": null,
   "metadata": {},
   "outputs": [],
   "source": [
    "print('Количество выбранных популярных курсов:', len(popular_courses_recommendation_list))"
   ]
  },
  {
   "cell_type": "markdown",
   "metadata": {},
   "source": [
    "Создадим 2 выборки популярных курсов, для того чтобы рекомендации 1 и 2 не повторялись."
   ]
  },
  {
   "cell_type": "code",
   "execution_count": null,
   "metadata": {},
   "outputs": [],
   "source": [
    "# рамдомно выбираем 16 элементов из списка популярных курсов для создания\n",
    "# списка первых рекомендаций (для курсов, которые не продавались вместе с другими курсами)\n",
    "# выбираем параметр replace=False, чтобы увеличить количество предложенных популярных курсов \n",
    "popular_courses_1_recommendation = np.random.choice(popular_courses_recommendation_list, \n",
    "                                                    size=16, replace=False)\n",
    "# для создания списка вторых рекомендаций убираем выбранные для \n",
    "# первого списка курсы из общего списка популярных курсов\n",
    "popular_courses_2_recommendation = list(\n",
    "    set(popular_courses_recommendation_list) - set(popular_courses_1_recommendation)\n",
    ")"
   ]
  },
  {
   "cell_type": "markdown",
   "metadata": {},
   "source": [
    "Необходимо также проверить комбинации кусров по количество продаж. \n",
    "\n",
    "Создадим рейтинг покупок пар курсов."
   ]
  },
  {
   "cell_type": "code",
   "execution_count": null,
   "metadata": {},
   "outputs": [],
   "source": [
    "# создаем датафрейм с данными о комбинациях курсов и количеством их \n",
    "# продаж из словаря courses_comb_dict, где строками выступают ключи словаря\n",
    "rating_df =pd.DataFrame.from_dict(courses_comb_dict, orient='index').reset_index()\n",
    "# обозначаем названия столбцов\n",
    "rating_df.columns = ['courses_comb', 'rating']\n",
    "rating_df"
   ]
  },
  {
   "cell_type": "code",
   "execution_count": null,
   "metadata": {},
   "outputs": [],
   "source": [
    "# создаем новый датафрейм группируя рейтинг и соответствующее кол-во продаж курсов\n",
    "grouped_rating = rating_df.groupby('rating')['courses_comb'].count().reset_index()\n",
    "# обозначаем названия столбцов \n",
    "grouped_rating.columns = ['rating', 'course_pair_cnt']\n",
    "grouped_rating.head(15)"
   ]
  },
  {
   "cell_type": "code",
   "execution_count": null,
   "metadata": {},
   "outputs": [],
   "source": [
    "# создаем диаграмму рассеяния, чтобы показать зависимость \n",
    "# рейтинга пары курсов от количества продаж курсов\n",
    "fig = px.scatter(grouped_rating,\n",
    "                 x = 'course_pair_cnt',\n",
    "                 y = 'rating',\n",
    "                 title='Диаграмма зависимости рейтинга пары курсов от количеста проданных пар курсов')\n",
    "fig.show()"
   ]
  },
  {
   "cell_type": "markdown",
   "metadata": {},
   "source": [
    "На графике видно, что больше всего пар курсов пользователи покупали по одному разу. Наибольшая плотность количества покупок пар курсов концентрируется от 1 до примерно 100 раз. Из таблицы рейтингов grouped_rating мы понимаем, что точное значение это - 95 пар курсов. Соответствено, рейтинг (количество продаж) равен 8.\n",
    "\n",
    "Итак, предлагать пользователям пары курсов с меньшим рейтингом может быть не логично, потому что пользователи могут покупать эти пары по своим субъективным причинам. Т.е. предлогая эти пары мы можем не попасть в предметную область и преглагаем курсы с меньшим рейтингом.\n",
    "\n",
    "Добавим условие, рейтинг более или равен 8, в цикл создания финальной таблицы рекомендаций. Вместо менеее популярных курсов будем предлагать ранее выбранные популярные курсы."
   ]
  },
  {
   "cell_type": "code",
   "execution_count": null,
   "metadata": {},
   "outputs": [],
   "source": [
    "# создаем финальный датафрейм всех курсов и 2 рекоммендаций к каждому курсу \n",
    "recommendation_df = pd.DataFrame(\n",
    "    columns=[\n",
    "        'course_id', \n",
    "        'first_recommendation', \n",
    "        'second_recommendation']\n",
    ")\n",
    "# проходим по каждому курсу в списке всех курсов\n",
    "for course in courses_list:\n",
    "    # если функция get_recommendation выводит список из 2х рекомендаций и рейтинг рекомендаций больше 8,\n",
    "    # добавляем курс, первую и вторую рекоммендации в финальный датафрейм\n",
    "    if len(get_recommendation_lst(course)) == 2 and get_recommendation_lst(course)[0][1] >= 8 and get_recommendation_lst(course)[1][1] >= 8:\n",
    "        recommendation_df.loc[course] = [course, \n",
    "                                    get_recommendation_lst(course)[0][0][1], \n",
    "                                    get_recommendation_lst(course)[1][0][1]]\n",
    "    # если функция get_recommendation выводит список из 2х рекомендаций и рейтин второй рекомендации меньше 8,\n",
    "    # добавляем курс, первую рекомендацию и вторую - случайно выбранную рекомендацию из списка популярных рекомендацй\n",
    "    elif len(get_recommendation_lst(course)) == 2 and get_recommendation_lst(course)[0][1] >= 8 and get_recommendation_lst(course)[1][1] < 8:\n",
    "        recommendation_df.loc[course] = [course, \n",
    "                                    get_recommendation_lst(course)[0][0][1], \n",
    "                                    np.random.choice(popular_courses_2_recommendation)]\n",
    "    # если функция get_recommendation выводит список из 2х рекомендаций и рейтин обеих рекомендаций меньше 8,\n",
    "    # добавляем курс, первую и вторую рекомендации - случайно выбраннуые рекомендацию из списков популярных рекомендацй\n",
    "    elif len(get_recommendation_lst(course)) == 2 and get_recommendation_lst(course)[0][1] < 8 and get_recommendation_lst(course)[1][1] < 8:\n",
    "        recommendation_df.loc[course] = [course, \n",
    "                                np.random.choice(popular_courses_1_recommendation), \n",
    "                                np.random.choice(popular_courses_2_recommendation)]\n",
    "    # если функция get_recommendation выводит список из 1 рекомендации и рейтинг рекомендации больше 8,\n",
    "    # формируем вторую рекомендацию из списка популярных курсов для второй рекоммендации \n",
    "    # и все полученные данные добавляем в финальный датафрейм\n",
    "    elif len(get_recommendation_lst(course)) == 1 and get_recommendation_lst(course)[0][1] >= 8:\n",
    "        recommendation_df.loc[course] = [course, \n",
    "                                    get_recommendation_lst(course)[0][0][1], \n",
    "                                    np.random.choice(popular_courses_2_recommendation)]\n",
    "    # если нет рекомендаций из купленных другими пользователями пар курсов или выбранная рекомендация имеет низкий рейтинг,\n",
    "    # формируем обе рекомендации из списков рекомендаций из популярных курсов\n",
    "    else:\n",
    "        recommendation_df.loc[course] = [course, \n",
    "                                np.random.choice(popular_courses_1_recommendation), \n",
    "                                np.random.choice(popular_courses_2_recommendation)]\n",
    "\n",
    "# сортируем полученных датафрейм по ID курсов\n",
    "recommendation_df = recommendation_df.sort_values(\n",
    "    ['course_id']\n",
    ").reset_index(drop=True)\n",
    "\n",
    "recommendation_df.tail(15)"
   ]
  },
  {
   "cell_type": "code",
   "execution_count": null,
   "metadata": {},
   "outputs": [],
   "source": [
    "# проверяем финальный датафрейм на наличие пропусков\n",
    "recommendation_df.info()"
   ]
  },
  {
   "cell_type": "markdown",
   "metadata": {},
   "source": [
    "Получилась таблица с рекомендациями к каждому курсу из пар курсов купленных другими пользователями. При том, если курс не покупался вместе с другими курсами, в качестве рекомендации предлагаются курсы с высокими рейтингами. Если курс покупался совместно с другими курсами менее 95 раз, то в качестве рекомендаций также предлагаются курсы с более высокими рейтингами."
   ]
  },
  {
   "cell_type": "code",
   "execution_count": null,
   "metadata": {},
   "outputs": [],
   "source": [
    "# сохраняем полученный датафрей\n",
    "\n",
    "#recommendation_df.to_csv('recommendation_system.csv')"
   ]
  },
  {
   "cell_type": "markdown",
   "metadata": {},
   "source": [
    "Выводы:\n",
    "\n",
    "В распределении продаж курсов онлайн-школы MasterMind наблюдается сильный перекос в сторону продаж определенных курсов, на долю продаж который приходится почти 46% продаж.\n",
    "\n",
    "Для повышения среднего чека и интереса пользователей к другим курсам была создана основа рекомендательной системы - таблица с курсами и двумя рекоммендациями.\n",
    "\n",
    "Рекомендации были выбраны среди курсов, которые пользователи покупали вместе с конкретными курсами.\n",
    "\n",
    "Для курсов, которые пользователи не покупали или не покупали совместно с другими курсами были предложены рекомендации из числа популярных курсов. Для выборки популярных курсов были выбраны курсы из 25% самых популярных курсов. С одной стороны это популярные курсы, с другой - эта более разнообразная выборка, чем топ 2/10 курсов.\n",
    "\n",
    "Также чтобы исключить вероятность предложения пользователям курсов с низким рейтингом, которые к тому же могут не совпадать с область интересов пользователей, решено предлагать рекомандации из числа популярных вместо пар курсов, которые покупали вместе менее 8 раз.\n",
    "\n",
    "Таким образом, были предложены рекомендации ко всем курсам."
   ]
  }
 ],
 "metadata": {
  "kernelspec": {
   "display_name": "Python 3",
   "language": "python",
   "name": "python3"
  },
  "language_info": {
   "codemirror_mode": {
    "name": "ipython",
    "version": 3
   },
   "file_extension": ".py",
   "mimetype": "text/x-python",
   "name": "python",
   "nbconvert_exporter": "python",
   "pygments_lexer": "ipython3",
   "version": "3.9.10 (tags/v3.9.10:f2f3f53, Jan 17 2022, 15:14:21) [MSC v.1929 64 bit (AMD64)]"
  },
  "orig_nbformat": 4,
  "vscode": {
   "interpreter": {
    "hash": "36e38c9d7bfabfc35bea8617c2fe079b4913750654579426e8d70faf06b4c5f4"
   }
  }
 },
 "nbformat": 4,
 "nbformat_minor": 2
}
